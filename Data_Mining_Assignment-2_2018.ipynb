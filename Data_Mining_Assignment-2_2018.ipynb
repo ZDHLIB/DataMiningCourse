{
 "cells": [
  {
   "cell_type": "code",
   "execution_count": 1,
   "metadata": {},
   "outputs": [],
   "source": [
    "import numpy as np # linear algebra\n",
    "import pandas as pd # data processing, CSV file I/O (e.g. pd.read_csv)\n",
    "from scipy.stats import normaltest\n",
    "from scipy.stats import norm\n",
    "import scipy.stats as stats\n",
    "import pylab\n",
    "from datetime import *"
   ]
  },
  {
   "cell_type": "code",
   "execution_count": 115,
   "metadata": {},
   "outputs": [],
   "source": [
    "data = pd.read_csv('./Assignment2_Agency.csv',sep=',')"
   ]
  },
  {
   "cell_type": "code",
   "execution_count": 113,
   "metadata": {},
   "outputs": [
    {
     "data": {
      "text/plain": [
       "(174, 25)"
      ]
     },
     "execution_count": 113,
     "metadata": {},
     "output_type": "execute_result"
    }
   ],
   "source": [
    "# groupClass = data.groupby(['Issuing Agency'])['Issuing Agency'].count()\n",
    "# minority_classes = list(groupClass[groupClass<100].index)\n",
    "# data['Issuing Agency'] = data['Issuing Agency'].replace(minority_classes, 'Others')\n",
    "tmp = data[data['Issuing Agency']=='P'].sample(frac=.1)\n",
    "data = data[data['Issuing Agency']!='P']\n",
    "data = data.append(tmp, ignore_index=True)\n",
    "tmp = data[data['Issuing Agency']=='T'].sample(frac=.1)\n",
    "data = data[data['Issuing Agency']!='T']\n",
    "data = data.append(tmp, ignore_index=True)"
   ]
  },
  {
   "cell_type": "code",
   "execution_count": 116,
   "metadata": {},
   "outputs": [
    {
     "data": {
      "text/plain": [
       "Issuing Agency\n",
       "Others     100\n",
       "P         1602\n",
       "S          260\n",
       "T         1736\n",
       "V          174\n",
       "X          310\n",
       "Name: Issuing Agency, dtype: int64"
      ]
     },
     "execution_count": 116,
     "metadata": {},
     "output_type": "execute_result"
    }
   ],
   "source": [
    "# head = [h.replace('\\'', '',) for h in data.columns]\n",
    "# data.columns = head\n",
    "# data = data.drop(data.columns[[0]], axis=1)\n",
    "# data.to_csv('./Assignment2_Agency.csv', sep=',', index=False)\n",
    "# pd.DataFrame(tmp, columns=['Issuing Agency']).groupby(['Issuing Agency'])['Issuing Agency'].count()\n",
    "data.groupby(['Issuing Agency'])['Issuing Agency'].count()"
   ]
  }
 ],
 "metadata": {
  "kernelspec": {
   "display_name": "Python 2",
   "language": "python",
   "name": "python2"
  },
  "language_info": {
   "codemirror_mode": {
    "name": "ipython",
    "version": 2
   },
   "file_extension": ".py",
   "mimetype": "text/x-python",
   "name": "python",
   "nbconvert_exporter": "python",
   "pygments_lexer": "ipython2",
   "version": "2.7.5"
  }
 },
 "nbformat": 4,
 "nbformat_minor": 2
}
